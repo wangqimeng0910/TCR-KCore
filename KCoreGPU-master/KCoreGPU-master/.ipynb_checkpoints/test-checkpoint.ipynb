{
 "cells": [
  {
   "cell_type": "code",
   "execution_count": 6,
   "id": "717d8516",
   "metadata": {},
   "outputs": [],
   "source": [
    "import networkx as nx\n",
    "import os"
   ]
  },
  {
   "cell_type": "code",
   "execution_count": 7,
   "id": "eac7ea11",
   "metadata": {},
   "outputs": [],
   "source": [
    "dataset = \"roadNetCa.g\""
   ]
  },
  {
   "cell_type": "code",
   "execution_count": 8,
   "id": "eb57fb2b",
   "metadata": {},
   "outputs": [],
   "source": [
    "G = nx.read_adjlist(\"data_set/data/ours_format/\" + dataset)"
   ]
  },
  {
   "cell_type": "code",
   "execution_count": 9,
   "id": "895abbdb",
   "metadata": {},
   "outputs": [],
   "source": [
    "nxkcore = nx.core_number(G)"
   ]
  },
  {
   "cell_type": "code",
   "execution_count": 10,
   "id": "11255e36",
   "metadata": {},
   "outputs": [
    {
     "name": "stdout",
     "output_type": "stream",
     "text": [
      "Test Failed!\n"
     ]
    }
   ],
   "source": [
    "d = {}\n",
    "with open(\"k-core.txt\") as f:\n",
    "    d[f.readline().strip()] = 0\n",
    "    for line in f:\n",
    "        (key, val) = line.split()\n",
    "        if val!= '0':\n",
    "            d[key] = int(val)\n",
    "if d == nxkcore:\n",
    "    print(\"Test Passed!\")\n",
    "else:\n",
    "    print(\"Test Failed!\")\n"
   ]
  }
 ],
 "metadata": {
  "anaconda-cloud": {},
  "kernelspec": {
   "display_name": "Python 3 (ipykernel)",
   "language": "python",
   "name": "python3"
  },
  "language_info": {
   "codemirror_mode": {
    "name": "ipython",
    "version": 3
   },
   "file_extension": ".py",
   "mimetype": "text/x-python",
   "name": "python",
   "nbconvert_exporter": "python",
   "pygments_lexer": "ipython3",
   "version": "3.9.7"
  }
 },
 "nbformat": 4,
 "nbformat_minor": 5
}
